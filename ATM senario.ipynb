{
 "cells": [
  {
   "cell_type": "code",
   "execution_count": null,
   "metadata": {},
   "outputs": [],
   "source": [
    "class ATM:\n",
    "    def __init__(self,s_name,s_account,s_pin,s_bal):\n",
    "        self.Name=s_name=s_name\n",
    "        self.Account=s_account\n",
    "        self.Pin=s_pin\n",
    "        self.Balance=s_bal\n",
    "        \n",
    "    def Access_Object(self):\n",
    "        print(\"Name: \",self.Name)\n",
    "        print(\"Account No: \",self.Account[0:2:1]+'x'"
   ]
  }
 ],
 "metadata": {
  "kernelspec": {
   "display_name": "Python 3",
   "language": "python",
   "name": "python3"
  },
  "language_info": {
   "codemirror_mode": {
    "name": "ipython",
    "version": 3
   },
   "file_extension": ".py",
   "mimetype": "text/x-python",
   "name": "python",
   "nbconvert_exporter": "python",
   "pygments_lexer": "ipython3",
   "version": "3.8.5"
  }
 },
 "nbformat": 4,
 "nbformat_minor": 4
}
